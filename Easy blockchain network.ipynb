{
 "cells": [
  {
   "cell_type": "code",
   "execution_count": 1,
   "metadata": {},
   "outputs": [],
   "source": [
    "import hashlib          #encryption\n",
    "import json             #format our blocks\n",
    "from time import time   #block’s timestamp"
   ]
  },
  {
   "cell_type": "code",
   "execution_count": 4,
   "metadata": {},
   "outputs": [
    {
     "name": "stdout",
     "output_type": "stream",
     "text": [
      "bloclchain new:  [{'index': 1, 'timestamp': 1610361715.02629, 'transactions': [], 'proof': 10101110011, 'previous_hash': 'The Times 11/Jan/2021.'}, {'index': 2, 'timestamp': 1610361715.02629, 'transactions': [{'sender': 'reza', 'recipient': 'ali', 'amount': '5 BTC'}, {'sender': 'nancy', 'recipient': 'reza', 'amount': '1 BTC'}, {'sender': 'elham', 'recipient': 'sara', 'amount': '5 BTC'}], 'proof': 101110110, 'previous_hash': '44c283816188ad8548dda2fb58beed2c1308b162ae9c5e414934dffb6c0f78f5'}, {'index': 3, 'timestamp': 1610361715.027292, 'transactions': [{'sender': 'reza', 'recipient': 'sara', 'amount': '1 BTC'}, {'sender': 'nancy', 'recipient': 'ali', 'amount': '0.5 BTC'}, {'sender': 'sara', 'recipient': 'elham', 'amount': '0.5 BTC'}], 'proof': 10101110001, 'previous_hash': '88e0d8af6e2ae26ba3b1e5599c4157c272210fbefe0c56d74f8cd151c117abbb'}]\n"
     ]
    }
   ],
   "source": [
    "#functions to add blocks, transactions, and encryption\n",
    "\n",
    "class Blockchain(object):\n",
    "    def __init__(self):\n",
    "        #add block\n",
    "        self.chain = []\n",
    "        #transactions will sit in this array until we approve & add them to a new block.\n",
    "        self.pending_transactions = []\n",
    "        #this is a method and we'll use it to add each block to the chain.\n",
    "        self.new_block(previous_hash=\"The Times 11/Jan/2021.\", proof=10101110011)\n",
    "\n",
    "\n",
    "    def new_block(self, proof, previous_hash=None):\n",
    "        block = {\n",
    "            #length of our blockchain and add 1 to it\n",
    "            'index': len(self.chain) + 1,\n",
    "            'timestamp': time(),\n",
    "            'transactions': self.pending_transactions,\n",
    "            #this is miner\n",
    "            'proof': proof,\n",
    "            #a hashed version of the most recent approved block\n",
    "            'previous_hash': previous_hash or self.hash(self.chain[-1]),\n",
    "        }\n",
    "        #we empty the pending list of transactions , then add our new block \n",
    "        self.pending_transactions = []\n",
    "        self.chain.append(block)\n",
    "\n",
    "        return block\n",
    "\n",
    "\n",
    "\n",
    "    @property\n",
    "    def last_block(self):\n",
    " \n",
    "        return self.chain[-1]\n",
    "\n",
    "\n",
    "\n",
    "    def new_transaction(self, sender, recipient, amount):\n",
    "        transaction = {\n",
    "            'sender': sender,\n",
    "            'recipient': recipient,\n",
    "            'amount': amount\n",
    "        }\n",
    "        self.pending_transactions.append(transaction)\n",
    "        return self.last_block['index'] + 1\n",
    "\n",
    "\n",
    "\n",
    "    def hash(self, block):\n",
    "        string_object = json.dumps(block, sort_keys=True)\n",
    "        block_string = string_object.encode()\n",
    "\n",
    "        raw_hash = hashlib.sha256(block_string)\n",
    "        hex_hash = raw_hash.hexdigest()\n",
    "\n",
    "        return hex_hash\n",
    "\n",
    "\n",
    "blockchain = Blockchain()\n",
    "t1 = blockchain.new_transaction(\"reza\", \"ali\", '5 BTC')\n",
    "t2 = blockchain.new_transaction(\"nancy\", \"reza\", '1 BTC')\n",
    "t3 = blockchain.new_transaction(\"elham\", \"sara\", '5 BTC')\n",
    "blockchain.new_block(101110110)\n",
    "\n",
    "t4 = blockchain.new_transaction(\"reza\", \"sara\", '1 BTC')\n",
    "t5 = blockchain.new_transaction(\"nancy\", \"ali\", '0.5 BTC')\n",
    "t6 = blockchain.new_transaction(\"sara\", \"elham\", '0.5 BTC')\n",
    "blockchain.new_block(10101110001)\n",
    "\n",
    "print(\"bloclchain new: \", blockchain.chain)"
   ]
  },
  {
   "cell_type": "code",
   "execution_count": null,
   "metadata": {},
   "outputs": [],
   "source": []
  }
 ],
 "metadata": {
  "kernelspec": {
   "display_name": "Python 3",
   "language": "python",
   "name": "python3"
  },
  "language_info": {
   "codemirror_mode": {
    "name": "ipython",
    "version": 3
   },
   "file_extension": ".py",
   "mimetype": "text/x-python",
   "name": "python",
   "nbconvert_exporter": "python",
   "pygments_lexer": "ipython3",
   "version": "3.7.9"
  }
 },
 "nbformat": 4,
 "nbformat_minor": 4
}
